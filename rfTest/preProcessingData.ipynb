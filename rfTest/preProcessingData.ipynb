{
 "cells": [
  {
   "cell_type": "code",
   "execution_count": 190,
   "id": "989a7038",
   "metadata": {},
   "outputs": [],
   "source": [
    "import pandas as pd"
   ]
  },
  {
   "cell_type": "markdown",
   "id": "930df05e",
   "metadata": {},
   "source": [
    "# Importing CSV Files\n",
    "The CSV files are from Wireshark on attack and normal sessions that was created."
   ]
  },
  {
   "cell_type": "code",
   "execution_count": 245,
   "id": "e0587e70",
   "metadata": {},
   "outputs": [],
   "source": [
    "dfAttack = pd.read_csv(r\"C:\\Users\\Neil Garcia\\Downloads\\Shared Folder - TE Machine\\try\\httpExclusive\\httpWireshark\\use\\httpattack.csv\")"
   ]
  },
  {
   "cell_type": "code",
   "execution_count": 246,
   "id": "1034e20e",
   "metadata": {},
   "outputs": [],
   "source": [
    "dfAttack2 = pd.read_csv(r\"C:\\Users\\Neil Garcia\\Downloads\\Shared Folder - TE Machine\\try\\httpExclusive\\httpWireshark\\use\\httpattack2.csv\")"
   ]
  },
  {
   "cell_type": "code",
   "execution_count": 247,
   "id": "9efae55b",
   "metadata": {},
   "outputs": [],
   "source": [
    "dfNormal = pd.read_csv(r\"C:\\Users\\Neil Garcia\\Downloads\\Shared Folder - TE Machine\\try\\httpExclusive\\httpWireshark\\use\\httpnormal.csv\")"
   ]
  },
  {
   "cell_type": "code",
   "execution_count": 248,
   "id": "2541a1f6",
   "metadata": {},
   "outputs": [],
   "source": [
    "dfNormal2 = pd.read_csv(r\"C:\\Users\\Neil Garcia\\Downloads\\Shared Folder - TE Machine\\try\\httpExclusive\\httpWireshark\\use\\httpnormal2.csv\")"
   ]
  },
  {
   "cell_type": "code",
   "execution_count": 249,
   "id": "5f55d80d",
   "metadata": {},
   "outputs": [],
   "source": [
    "dfNormal3 = pd.read_csv(r\"C:\\Users\\Neil Garcia\\Downloads\\Shared Folder - TE Machine\\try\\httpExclusive\\httpWireshark\\use\\httpnormal3.csv\")"
   ]
  },
  {
   "cell_type": "markdown",
   "id": "e1549481",
   "metadata": {},
   "source": [
    "--------------------------------------------------------------------------------"
   ]
  },
  {
   "cell_type": "markdown",
   "id": "c45e2615",
   "metadata": {},
   "source": [
    "# Label the dataframes accordingly based on the traffic\n",
    "Since the CSV files are separated, we can label the attack session with 1 and the normal session for 0. "
   ]
  },
  {
   "cell_type": "code",
   "execution_count": 250,
   "id": "132070a4",
   "metadata": {},
   "outputs": [],
   "source": [
    "dfAttack2[\"Label\"] = 1\n",
    "dfAttack[\"Label\"] = 1\n",
    "dfNormal[\"Label\"] = 0\n",
    "dfNormal2[\"Label\"] = 0\n",
    "dfNormal3[\"Label\"] = 0"
   ]
  },
  {
   "cell_type": "markdown",
   "id": "ae49af62",
   "metadata": {},
   "source": [
    "##### Quick validation count for each rows in the dataframes\n",
    "To check if the dataset is imbalance with the attack session and normal session."
   ]
  },
  {
   "cell_type": "code",
   "execution_count": 251,
   "id": "b4926d92",
   "metadata": {
    "scrolled": false
   },
   "outputs": [
    {
     "name": "stdout",
     "output_type": "stream",
     "text": [
      "Number of rows in the DataFrame: 1913\n",
      "Number of rows in the DataFrame: 3977\n",
      "Number of rows in the DataFrame: 127\n",
      "Number of rows in the DataFrame: 47\n",
      "Number of rows in the DataFrame: 199\n"
     ]
    }
   ],
   "source": [
    "data = [dfAttack, dfAttack2, dfNormal, dfNormal2, dfNormal3]\n",
    "\n",
    "for i in data:\n",
    "    num_rows = len(i)\n",
    "    print(\"Number of rows in the DataFrame:\", num_rows)"
   ]
  },
  {
   "cell_type": "markdown",
   "id": "197ff247",
   "metadata": {},
   "source": [
    "------------------------------------------------------------------------"
   ]
  },
  {
   "cell_type": "markdown",
   "id": "0ef07e32",
   "metadata": {},
   "source": [
    "# Join the normal and attack session dataframes\n",
    "Combine all dataframes into one and remove any rows that are null"
   ]
  },
  {
   "cell_type": "code",
   "execution_count": 252,
   "id": "fe4a298d",
   "metadata": {},
   "outputs": [],
   "source": [
    "df = pd.concat([dfAttack, dfAttack2, dfNormal, dfNormal2, dfNormal3], axis=0, ignore_index=True)\n",
    "\n",
    "# Drop rows that are null\n",
    "df.dropna(inplace=True)"
   ]
  },
  {
   "cell_type": "code",
   "execution_count": 253,
   "id": "cced90de",
   "metadata": {},
   "outputs": [
    {
     "data": {
      "text/html": [
       "<div>\n",
       "<style scoped>\n",
       "    .dataframe tbody tr th:only-of-type {\n",
       "        vertical-align: middle;\n",
       "    }\n",
       "\n",
       "    .dataframe tbody tr th {\n",
       "        vertical-align: top;\n",
       "    }\n",
       "\n",
       "    .dataframe thead th {\n",
       "        text-align: right;\n",
       "    }\n",
       "</style>\n",
       "<table border=\"1\" class=\"dataframe\">\n",
       "  <thead>\n",
       "    <tr style=\"text-align: right;\">\n",
       "      <th></th>\n",
       "      <th>No.</th>\n",
       "      <th>Arrival Time</th>\n",
       "      <th>Time</th>\n",
       "      <th>Source</th>\n",
       "      <th>Destination</th>\n",
       "      <th>Protocol</th>\n",
       "      <th>Frame Length</th>\n",
       "      <th>Info</th>\n",
       "      <th>Full request URI</th>\n",
       "      <th>Label</th>\n",
       "    </tr>\n",
       "  </thead>\n",
       "  <tbody>\n",
       "    <tr>\n",
       "      <th>0</th>\n",
       "      <td>1</td>\n",
       "      <td>Sep 18, 2023 23:27:26.023406000 Malay Peninsul...</td>\n",
       "      <td>0.000000</td>\n",
       "      <td>192.168.95.128</td>\n",
       "      <td>192.168.95.129</td>\n",
       "      <td>HTTP</td>\n",
       "      <td>359</td>\n",
       "      <td>GET /dvwa/vulnerabilities/fi/..%2f..%2f..%2f.....</td>\n",
       "      <td>http://192.168.95.129/dvwa/vulnerabilities/fi/...</td>\n",
       "      <td>1</td>\n",
       "    </tr>\n",
       "    <tr>\n",
       "      <th>1</th>\n",
       "      <td>2</td>\n",
       "      <td>Sep 18, 2023 23:27:26.326025000 Malay Peninsul...</td>\n",
       "      <td>0.302619</td>\n",
       "      <td>192.168.95.128</td>\n",
       "      <td>192.168.95.129</td>\n",
       "      <td>HTTP</td>\n",
       "      <td>302</td>\n",
       "      <td>GET /dvwa/vulnerabilities/fi/..%5cdeep_travers...</td>\n",
       "      <td>http://192.168.95.129/dvwa/vulnerabilities/fi/...</td>\n",
       "      <td>1</td>\n",
       "    </tr>\n",
       "    <tr>\n",
       "      <th>2</th>\n",
       "      <td>3</td>\n",
       "      <td>Sep 18, 2023 23:27:26.628313000 Malay Peninsul...</td>\n",
       "      <td>0.604907</td>\n",
       "      <td>192.168.95.128</td>\n",
       "      <td>192.168.95.129</td>\n",
       "      <td>HTTP</td>\n",
       "      <td>253</td>\n",
       "      <td>GET /dvwa/vulnerabilities/fi/..%5c..%5cdeep_tr...</td>\n",
       "      <td>http://192.168.95.129/dvwa/vulnerabilities/fi/...</td>\n",
       "      <td>1</td>\n",
       "    </tr>\n",
       "    <tr>\n",
       "      <th>3</th>\n",
       "      <td>4</td>\n",
       "      <td>Sep 18, 2023 23:27:26.931207000 Malay Peninsul...</td>\n",
       "      <td>0.907801</td>\n",
       "      <td>192.168.95.128</td>\n",
       "      <td>192.168.95.129</td>\n",
       "      <td>HTTP</td>\n",
       "      <td>333</td>\n",
       "      <td>GET /dvwa/vulnerabilities/fi/..%5c..%5c..%5cde...</td>\n",
       "      <td>http://192.168.95.129/dvwa/vulnerabilities/fi/...</td>\n",
       "      <td>1</td>\n",
       "    </tr>\n",
       "    <tr>\n",
       "      <th>4</th>\n",
       "      <td>5</td>\n",
       "      <td>Sep 18, 2023 23:27:27.233910000 Malay Peninsul...</td>\n",
       "      <td>1.210504</td>\n",
       "      <td>192.168.95.128</td>\n",
       "      <td>192.168.95.129</td>\n",
       "      <td>HTTP</td>\n",
       "      <td>309</td>\n",
       "      <td>GET /dvwa/vulnerabilities/fi/..%5c..%5c..%5c.....</td>\n",
       "      <td>http://192.168.95.129/dvwa/vulnerabilities/fi/...</td>\n",
       "      <td>1</td>\n",
       "    </tr>\n",
       "    <tr>\n",
       "      <th>...</th>\n",
       "      <td>...</td>\n",
       "      <td>...</td>\n",
       "      <td>...</td>\n",
       "      <td>...</td>\n",
       "      <td>...</td>\n",
       "      <td>...</td>\n",
       "      <td>...</td>\n",
       "      <td>...</td>\n",
       "      <td>...</td>\n",
       "      <td>...</td>\n",
       "    </tr>\n",
       "    <tr>\n",
       "      <th>6258</th>\n",
       "      <td>53941</td>\n",
       "      <td>Oct  4, 2023 14:43:23.857727013 Malay Peninsul...</td>\n",
       "      <td>347.850720</td>\n",
       "      <td>172.24.30.224</td>\n",
       "      <td>172.24.30.219</td>\n",
       "      <td>HTTP</td>\n",
       "      <td>424</td>\n",
       "      <td>GET /favicon.ico HTTP/1.1</td>\n",
       "      <td>http://172.24.30.219/favicon.ico</td>\n",
       "      <td>0</td>\n",
       "    </tr>\n",
       "    <tr>\n",
       "      <th>6259</th>\n",
       "      <td>54143</td>\n",
       "      <td>Oct  4, 2023 14:43:26.622892894 Malay Peninsul...</td>\n",
       "      <td>350.615886</td>\n",
       "      <td>172.24.30.224</td>\n",
       "      <td>172.24.30.219</td>\n",
       "      <td>HTTP</td>\n",
       "      <td>549</td>\n",
       "      <td>GET /dvwa/instructions.php HTTP/1.1</td>\n",
       "      <td>http://172.24.30.219/dvwa/instructions.php</td>\n",
       "      <td>0</td>\n",
       "    </tr>\n",
       "    <tr>\n",
       "      <th>6260</th>\n",
       "      <td>54265</td>\n",
       "      <td>Oct  4, 2023 14:43:28.163690396 Malay Peninsul...</td>\n",
       "      <td>352.156683</td>\n",
       "      <td>172.24.30.224</td>\n",
       "      <td>172.24.30.219</td>\n",
       "      <td>HTTP</td>\n",
       "      <td>554</td>\n",
       "      <td>GET /dvwa/instructions.php?doc=readme HTTP/1.1</td>\n",
       "      <td>http://172.24.30.219/dvwa/instructions.php?doc...</td>\n",
       "      <td>0</td>\n",
       "    </tr>\n",
       "    <tr>\n",
       "      <th>6261</th>\n",
       "      <td>54292</td>\n",
       "      <td>Oct  4, 2023 14:43:28.379395600 Malay Peninsul...</td>\n",
       "      <td>352.372389</td>\n",
       "      <td>172.24.30.224</td>\n",
       "      <td>172.24.30.219</td>\n",
       "      <td>HTTP</td>\n",
       "      <td>459</td>\n",
       "      <td>GET /dvwa/favicon.ico HTTP/1.1</td>\n",
       "      <td>http://172.24.30.219/dvwa/favicon.ico</td>\n",
       "      <td>0</td>\n",
       "    </tr>\n",
       "    <tr>\n",
       "      <th>6262</th>\n",
       "      <td>54356</td>\n",
       "      <td>Oct  4, 2023 14:43:28.962698008 Malay Peninsul...</td>\n",
       "      <td>352.955691</td>\n",
       "      <td>172.24.30.224</td>\n",
       "      <td>172.24.30.219</td>\n",
       "      <td>HTTP</td>\n",
       "      <td>568</td>\n",
       "      <td>GET /dvwa/instructions.php?doc=changelog HTTP/...</td>\n",
       "      <td>http://172.24.30.219/dvwa/instructions.php?doc...</td>\n",
       "      <td>0</td>\n",
       "    </tr>\n",
       "  </tbody>\n",
       "</table>\n",
       "<p>6263 rows × 10 columns</p>\n",
       "</div>"
      ],
      "text/plain": [
       "        No.                                       Arrival Time        Time  \\\n",
       "0         1  Sep 18, 2023 23:27:26.023406000 Malay Peninsul...    0.000000   \n",
       "1         2  Sep 18, 2023 23:27:26.326025000 Malay Peninsul...    0.302619   \n",
       "2         3  Sep 18, 2023 23:27:26.628313000 Malay Peninsul...    0.604907   \n",
       "3         4  Sep 18, 2023 23:27:26.931207000 Malay Peninsul...    0.907801   \n",
       "4         5  Sep 18, 2023 23:27:27.233910000 Malay Peninsul...    1.210504   \n",
       "...     ...                                                ...         ...   \n",
       "6258  53941  Oct  4, 2023 14:43:23.857727013 Malay Peninsul...  347.850720   \n",
       "6259  54143  Oct  4, 2023 14:43:26.622892894 Malay Peninsul...  350.615886   \n",
       "6260  54265  Oct  4, 2023 14:43:28.163690396 Malay Peninsul...  352.156683   \n",
       "6261  54292  Oct  4, 2023 14:43:28.379395600 Malay Peninsul...  352.372389   \n",
       "6262  54356  Oct  4, 2023 14:43:28.962698008 Malay Peninsul...  352.955691   \n",
       "\n",
       "              Source     Destination Protocol  Frame Length  \\\n",
       "0     192.168.95.128  192.168.95.129     HTTP           359   \n",
       "1     192.168.95.128  192.168.95.129     HTTP           302   \n",
       "2     192.168.95.128  192.168.95.129     HTTP           253   \n",
       "3     192.168.95.128  192.168.95.129     HTTP           333   \n",
       "4     192.168.95.128  192.168.95.129     HTTP           309   \n",
       "...              ...             ...      ...           ...   \n",
       "6258   172.24.30.224   172.24.30.219     HTTP           424   \n",
       "6259   172.24.30.224   172.24.30.219     HTTP           549   \n",
       "6260   172.24.30.224   172.24.30.219     HTTP           554   \n",
       "6261   172.24.30.224   172.24.30.219     HTTP           459   \n",
       "6262   172.24.30.224   172.24.30.219     HTTP           568   \n",
       "\n",
       "                                                   Info  \\\n",
       "0     GET /dvwa/vulnerabilities/fi/..%2f..%2f..%2f.....   \n",
       "1     GET /dvwa/vulnerabilities/fi/..%5cdeep_travers...   \n",
       "2     GET /dvwa/vulnerabilities/fi/..%5c..%5cdeep_tr...   \n",
       "3     GET /dvwa/vulnerabilities/fi/..%5c..%5c..%5cde...   \n",
       "4     GET /dvwa/vulnerabilities/fi/..%5c..%5c..%5c.....   \n",
       "...                                                 ...   \n",
       "6258                         GET /favicon.ico HTTP/1.1    \n",
       "6259               GET /dvwa/instructions.php HTTP/1.1    \n",
       "6260    GET /dvwa/instructions.php?doc=readme HTTP/1.1    \n",
       "6261                    GET /dvwa/favicon.ico HTTP/1.1    \n",
       "6262  GET /dvwa/instructions.php?doc=changelog HTTP/...   \n",
       "\n",
       "                                       Full request URI  Label  \n",
       "0     http://192.168.95.129/dvwa/vulnerabilities/fi/...      1  \n",
       "1     http://192.168.95.129/dvwa/vulnerabilities/fi/...      1  \n",
       "2     http://192.168.95.129/dvwa/vulnerabilities/fi/...      1  \n",
       "3     http://192.168.95.129/dvwa/vulnerabilities/fi/...      1  \n",
       "4     http://192.168.95.129/dvwa/vulnerabilities/fi/...      1  \n",
       "...                                                 ...    ...  \n",
       "6258                   http://172.24.30.219/favicon.ico      0  \n",
       "6259         http://172.24.30.219/dvwa/instructions.php      0  \n",
       "6260  http://172.24.30.219/dvwa/instructions.php?doc...      0  \n",
       "6261              http://172.24.30.219/dvwa/favicon.ico      0  \n",
       "6262  http://172.24.30.219/dvwa/instructions.php?doc...      0  \n",
       "\n",
       "[6263 rows x 10 columns]"
      ]
     },
     "execution_count": 253,
     "metadata": {},
     "output_type": "execute_result"
    }
   ],
   "source": [
    "df"
   ]
  },
  {
   "cell_type": "markdown",
   "id": "9c3aa830",
   "metadata": {},
   "source": [
    "-------------------------------------------------"
   ]
  },
  {
   "cell_type": "markdown",
   "id": "cc09c0eb",
   "metadata": {},
   "source": [
    "# Remove any unecessary strings in the Full request URI\n",
    "Since the sessions were conducted in a controlled environment, it will be redundant as all traffic were defined. There were also strings that were unecessary that will affect the quality of dataset.\n",
    "\n",
    "- Replace any unecessary strings\n",
    "- Shuffle the rows"
   ]
  },
  {
   "cell_type": "code",
   "execution_count": 254,
   "id": "1871258e",
   "metadata": {},
   "outputs": [],
   "source": [
    "# Define the replacement patterns. Remove all unecessary wordings in the payload URI\n",
    "patterns = [r'deep_traversal.txt', r'http://192.168.95.129/', r'http://172.24.30.219/']\n",
    "\n",
    "df.loc[df['Full request URI'].str.contains('dvwa/login.php'), 'Label'] = 0\n",
    "\n",
    "# Apply replacement patterns in a loop\n",
    "for pattern in patterns:\n",
    "    df['Full request URI'] = df['Full request URI'].str.replace(pattern, '', regex=True)"
   ]
  },
  {
   "cell_type": "code",
   "execution_count": 255,
   "id": "ef11aa24",
   "metadata": {},
   "outputs": [
    {
     "name": "stdout",
     "output_type": "stream",
     "text": [
      "        No.                                       Arrival Time        Time  \\\n",
      "2304   3977  Oct  3, 2023 00:46:12.105369103 Malay Peninsul...  118.412597   \n",
      "3621  17350  Oct  3, 2023 00:50:31.377152925 Malay Peninsul...  377.684381   \n",
      "5224  33483  Oct  3, 2023 00:58:23.929905715 Malay Peninsul...  850.237134   \n",
      "2707   8068  Oct  3, 2023 00:48:03.757847121 Malay Peninsul...  230.065075   \n",
      "2596   6930  Oct  3, 2023 00:47:40.544020907 Malay Peninsul...  206.851249   \n",
      "...     ...                                                ...         ...   \n",
      "3772  18880  Oct  3, 2023 00:51:04.093390148 Malay Peninsul...  410.400618   \n",
      "5191  33151  Oct  3, 2023 00:58:13.941151834 Malay Peninsul...  840.248380   \n",
      "5226  33503  Oct  3, 2023 00:58:24.537381434 Malay Peninsul...  850.844609   \n",
      "5390  35158  Oct  3, 2023 00:59:14.184783426 Malay Peninsul...  900.492011   \n",
      "860     867  Sep 18, 2023 23:31:25.142526000 Malay Peninsul...  239.119120   \n",
      "\n",
      "              Source     Destination Protocol  Frame Length  \\\n",
      "2304  192.168.95.128  192.168.95.129     HTTP           273   \n",
      "3621  192.168.95.128  192.168.95.129     HTTP           339   \n",
      "5224  192.168.95.128  192.168.95.129     HTTP           376   \n",
      "2707  192.168.95.128  192.168.95.129     HTTP           298   \n",
      "2596  192.168.95.128  192.168.95.129     HTTP           372   \n",
      "...              ...             ...      ...           ...   \n",
      "3772  192.168.95.128  192.168.95.129     HTTP           343   \n",
      "5191  192.168.95.128  192.168.95.129     HTTP           324   \n",
      "5226  192.168.95.128  192.168.95.129     HTTP           341   \n",
      "5390  192.168.95.128  192.168.95.129     HTTP           355   \n",
      "860   192.168.95.128  192.168.95.129     HTTP           413   \n",
      "\n",
      "                                                   Info  \\\n",
      "2304  GET /dvwa/vulnerabilities/fi/..%000x5c..%000x5...   \n",
      "3621  GET /dvwa/vulnerabilities/fi/?.%uF025?.%uF025?...   \n",
      "5224  GET /dvwa/vulnerabilities/fi/%c0.%c0.%c1%9c%c0...   \n",
      "2707  GET /dvwa/vulnerabilities/fi/.?%252f.?%252fetc...   \n",
      "2596  GET /dvwa/vulnerabilities/fi/..%01%%32%%66..%0...   \n",
      "...                                                 ...   \n",
      "3772  GET /dvwa/vulnerabilities/fi/%5C..%c0%af%5C..%...   \n",
      "5191  GET /dvwa/vulnerabilities/fi/%c0.%c0.%252f%c0....   \n",
      "5226  GET /dvwa/vulnerabilities/fi/%c0.%c0.%c1%pc%c0...   \n",
      "5390  GET /dvwa/vulnerabilities/fi/%252e%252e%c0%af%...   \n",
      "860                       GET /dvwa/login.php HTTP/1.1    \n",
      "\n",
      "                                       Full request URI  Label  \n",
      "2304  dvwa/vulnerabilities/fi/..%000x5c..%000x5cetc0...      1  \n",
      "3621  dvwa/vulnerabilities/fi/?.%uF025?.%uF025?.%uF0...      1  \n",
      "5224  dvwa/vulnerabilities/fi/%c0.%c0.%c1%9c%c0.%c0....      1  \n",
      "2707  dvwa/vulnerabilities/fi/.?%252f.?%252fetc%252f...      1  \n",
      "2596  dvwa/vulnerabilities/fi/..%01%%32%%66..%01%%32...      1  \n",
      "...                                                 ...    ...  \n",
      "3772  dvwa/vulnerabilities/fi/%5C..%c0%af%5C..%c0%af...      1  \n",
      "5191  dvwa/vulnerabilities/fi/%c0.%c0.%252f%c0.%c0.%...      1  \n",
      "5226  dvwa/vulnerabilities/fi/%c0.%c0.%c1%pc%c0.%c0....      1  \n",
      "5390  dvwa/vulnerabilities/fi/%252e%252e%c0%af%252e%...      1  \n",
      "860                                      dvwa/login.php      0  \n",
      "\n",
      "[6263 rows x 10 columns]\n"
     ]
    }
   ],
   "source": [
    "# Shuffle the rows\n",
    "df = df.sample(frac=1.0, random_state=42)\n",
    "print(df)"
   ]
  },
  {
   "cell_type": "code",
   "execution_count": 256,
   "id": "9ea1a713",
   "metadata": {
    "scrolled": false
   },
   "outputs": [
    {
     "data": {
      "text/plain": [
       "Index(['No.', 'Arrival Time', 'Time', 'Source', 'Destination', 'Protocol',\n",
       "       'Frame Length', 'Info', 'Full request URI', 'Label'],\n",
       "      dtype='object')"
      ]
     },
     "execution_count": 256,
     "metadata": {},
     "output_type": "execute_result"
    }
   ],
   "source": [
    "# Show all the column names of the dataframe\n",
    "columns = df.columns\n",
    "columns"
   ]
  },
  {
   "cell_type": "markdown",
   "id": "3f9fbb65",
   "metadata": {},
   "source": [
    "--------------------------------"
   ]
  },
  {
   "cell_type": "markdown",
   "id": "1a898158",
   "metadata": {},
   "source": [
    "# Feature Selection\n",
    "Dropping columns that are not relevant to LFI attacks or Layer 7 attacks and to the nature of the attacks as it was conducted only in a controlled environment."
   ]
  },
  {
   "cell_type": "code",
   "execution_count": 257,
   "id": "ac16bba0",
   "metadata": {},
   "outputs": [],
   "source": [
    "df = df.drop(labels=['No.', 'Arrival Time', 'Time', 'Source', 'Destination', 'Protocol', 'Info', 'Frame Length'], axis=1)"
   ]
  },
  {
   "cell_type": "markdown",
   "id": "221765bc",
   "metadata": {},
   "source": [
    "----------------------"
   ]
  },
  {
   "cell_type": "markdown",
   "id": "1da007ac",
   "metadata": {},
   "source": [
    "# Feature Engineering and Extraction\n",
    "Using the Full request URI to help distinguish informative feature that can be used in detecting LFI attacks. Using the attack vectors that was defined in the Scope of the Study, we used methods to determine if there were attacks that behave on the following:\n",
    "\n",
    "1. Directory Traversal\n",
    "2. File Path Manipulation\n",
    "3. Null Byte Poisoning\n",
    "4. PHP/Data Wrapper\n",
    "5. Double Encoding"
   ]
  },
  {
   "cell_type": "markdown",
   "id": "079ef49c",
   "metadata": {},
   "source": [
    "### 1. Dot Dot Pwn\n",
    "Check if the Full request URI has a path traversal pattern."
   ]
  },
  {
   "cell_type": "code",
   "execution_count": 258,
   "id": "b4aaa2ac",
   "metadata": {},
   "outputs": [],
   "source": [
    "import re\n",
    "    # Regular expression pattern to detect traversal sequences (e.g., ../, ../../, ??/, ?./, .?/)\n",
    "traversal_pattern = r'\\.\\./|\\?\\?/|\\?\\./'\n",
    "\n",
    "# Function to check for traversal sequences in a URI and return 1 if found, 0 otherwise\n",
    "def has_traversal(uri):\n",
    "    return 1 if re.search(traversal_pattern, uri) else 0\n",
    "\n",
    "# Apply the has_traversal function to each row in the \"Full request URI\" column\n",
    "df['HasDotDotPwn'] = df['Full request URI'].apply(has_traversal)"
   ]
  },
  {
   "cell_type": "markdown",
   "id": "91e3939e",
   "metadata": {},
   "source": [
    "### 2. Data Wrapper Abuse\n",
    "Check if these patterns are existing in the URI that may abuse the unsanitze web application throught directory or file path traversal that may result into LFI exploitation and deliberation."
   ]
  },
  {
   "cell_type": "code",
   "execution_count": 259,
   "id": "a3c30b8e",
   "metadata": {},
   "outputs": [],
   "source": [
    "# Keywords or patterns to detect in the URI\n",
    "keywords_to_detect = ['etc/passwd', 'file:///', 'php://', 'passwd']\n",
    "\n",
    "# Function to check for the presence of keywords in a URI and return 1 if found, 0 otherwise\n",
    "def has_keywords(uri):\n",
    "    for keyword in keywords_to_detect:\n",
    "        if re.search(re.escape(keyword), uri):\n",
    "            return 1\n",
    "    return 0\n",
    "\n",
    "# Apply the has_keywords function to each row in the \"Full request URI\" column\n",
    "df['HasDataWrapperAbuse'] = df['Full request URI'].apply(has_keywords)"
   ]
  },
  {
   "cell_type": "markdown",
   "id": "13085c42",
   "metadata": {},
   "source": [
    "### 3. Double Encoded Sequences\n",
    "Check if encoding patterns occurs on the Full request URI column since this technique is commonly used for LFI attacks."
   ]
  },
  {
   "cell_type": "code",
   "execution_count": 260,
   "id": "451456cb",
   "metadata": {},
   "outputs": [],
   "source": [
    "# Regular expression pattern to detect encoded sequences (e.g., %2e, %2f, %5c, etc.)\n",
    "encoded_sequence_pattern = r'%[0-9a-fA-F]{1}[0-9a-fA-F]*|%u[0-9a-fA-F]{4}'\n",
    "\n",
    "# Function to check for encoded sequences in a URI and return 1 if found, 0 otherwise\n",
    "def has_encoded_sequences(uri):\n",
    "    return 1 if re.search(encoded_sequence_pattern, uri) else 0\n",
    "\n",
    "# Apply the has_encoded_sequences function to each row in the \"Full request URI\" column\n",
    "df['HasDoubleEncoding'] = df['Full request URI'].apply(has_encoded_sequences)"
   ]
  },
  {
   "cell_type": "markdown",
   "id": "559cf81d",
   "metadata": {},
   "source": [
    "### 4. Domain Patterns\n",
    "Determine if the URI has expressed an LFI attack. This method will count the occurence of the patterns as listed below:\n",
    "- etc/passwd\n",
    "- file://\n",
    "- php://"
   ]
  },
  {
   "cell_type": "code",
   "execution_count": 261,
   "id": "1ffdc511",
   "metadata": {},
   "outputs": [],
   "source": [
    "# Keywords or patterns specific to your domain knowledge\n",
    "domain_patterns = ['etc/passwd', 'file://', 'php://', 'passwd']\n",
    "\n",
    "# Function to check for domain knowledge-based patterns in a URI\n",
    "def has_domain_patterns(uri, domain_patterns):\n",
    "    for pattern in domain_patterns:\n",
    "        if pattern in uri:\n",
    "            return 1\n",
    "    return 0\n",
    "\n",
    "# Apply the has_domain_patterns function to each row in the \"URI\" column\n",
    "df['HasDomainPatterns'] = df['Full request URI'].apply(has_domain_patterns, domain_patterns=domain_patterns)"
   ]
  },
  {
   "cell_type": "markdown",
   "id": "ba4caec8",
   "metadata": {},
   "source": [
    "### 5. Null Byte Behavior\n",
    "This method will check if there were null byte attacks (an LFI attack vector) present in the URI."
   ]
  },
  {
   "cell_type": "code",
   "execution_count": 262,
   "id": "7c96b991",
   "metadata": {
    "scrolled": true
   },
   "outputs": [],
   "source": [
    "# Define a list of patterns to recognize (e.g., null byte)\n",
    "patterns_to_recognize = [r'%00', r'\\x00', r'0x']\n",
    "\n",
    "# Function to check for the presence of patterns in a URI\n",
    "def has_patterns(uri, patterns):\n",
    "    for pattern in patterns:\n",
    "        if re.search(pattern, uri):\n",
    "            return 1\n",
    "    return 0\n",
    "\n",
    "# Apply the has_patterns function to each row in the \"Full request URI\" column\n",
    "df['NullBytePattern'] = df['Full request URI'].apply(has_patterns, patterns=patterns_to_recognize)"
   ]
  },
  {
   "cell_type": "markdown",
   "id": "814ea106",
   "metadata": {},
   "source": [
    "### 6. URI Length\n",
    "Counts the letter, value, and special character from Full request URI"
   ]
  },
  {
   "cell_type": "code",
   "execution_count": 263,
   "id": "23adb9c0",
   "metadata": {},
   "outputs": [],
   "source": [
    "# Function to count characters in a cell and return the count\n",
    "def count_characters(cell_value):\n",
    "    return len(str(cell_value).replace(\" \",\"\"))\n",
    "\n",
    "# Apply the function to the \"Full request URI\" column and create a new \"URILength\" column\n",
    "df['URILength'] = df['Full request URI'].apply(lambda x: count_characters(x))"
   ]
  },
  {
   "cell_type": "markdown",
   "id": "c7c65f79",
   "metadata": {},
   "source": [
    "### 7. URI Special Character/s\n",
    "Counts the special character occurence in the Full request URI as LFI attacks are prominent in using special characters to exploit the vulnerability. "
   ]
  },
  {
   "cell_type": "code",
   "execution_count": 264,
   "id": "68bf50f1",
   "metadata": {},
   "outputs": [],
   "source": [
    "# Regular expression pattern to detect special characters\n",
    "special_char_pattern = r'[!@#$%^&*()_+{}\\[\\]:;<>,.?/~\\\\-]'\n",
    "\n",
    "# Function to count special characters in a URI\n",
    "def count_special_characters(uri):\n",
    "    return len(re.findall(special_char_pattern, uri))\n",
    "\n",
    "# Apply the count_special_characters function to each row in the \"URI\" column\n",
    "df['SpecialCharCount'] = df['Full request URI'].apply(count_special_characters)"
   ]
  },
  {
   "cell_type": "markdown",
   "id": "027fce6a",
   "metadata": {},
   "source": [
    "### 8. URI Path Depth\n",
    "Count how many directories was traversed in the URI. THis can be referenced by counting the '/' (slash) connotation."
   ]
  },
  {
   "cell_type": "code",
   "execution_count": 265,
   "id": "55a69a0b",
   "metadata": {},
   "outputs": [],
   "source": [
    "# Function to calculate the path depth of a URI\n",
    "def calculate_path_depth(uri):\n",
    "    # Split the URI by '/' to extract path components\n",
    "    path_components = uri.split('/')\n",
    "    \n",
    "    # Calculate the number of directories traversed (excluding empty strings)\n",
    "    path_depth = len([component for component in path_components if component and component != '..'])\n",
    "    \n",
    "    return path_depth\n",
    "\n",
    "# Apply the calculate_path_depth function to each row in the \"URI\" column\n",
    "df['PathDepth'] = df['Full request URI'].apply(calculate_path_depth)"
   ]
  },
  {
   "cell_type": "markdown",
   "id": "c8c86e86",
   "metadata": {},
   "source": [
    "### 9. Tokenizer \n",
    "Process to breakdown URI into chunks of strings to make meaningful components or tokens. Tokenizing URIs involves separating these components and often ignoring special characters and delimiters. It may separate it on the following:\n",
    "\n",
    "- Scheme (protocol)\n",
    "- Host \n",
    "- Path\n",
    "- Query Parameter\n",
    "- Fragment Identifier\n",
    "\n",
    "Special characters are often not inclusive in this tokenization process. "
   ]
  },
  {
   "cell_type": "code",
   "execution_count": 266,
   "id": "a7211401",
   "metadata": {},
   "outputs": [],
   "source": [
    "import nltk\n",
    "# Function to tokenize a URI and count the number of tokens\n",
    "def token_count(uri, tokenizer):\n",
    "    tokens = tokenizer(uri)\n",
    "    return len(tokens)\n",
    "\n",
    "# Apply the token_count function to each row in the \"URI\" column using nltk's word tokenizer\n",
    "tokenizer = nltk.word_tokenize  # You can use this for word-level tokenization\n",
    "df['TokenCount'] = df['Full request URI'].apply(token_count, tokenizer=tokenizer)"
   ]
  },
  {
   "cell_type": "markdown",
   "id": "73f5c8e5",
   "metadata": {},
   "source": [
    "### 10. Attack Vector "
   ]
  },
  {
   "cell_type": "code",
   "execution_count": 267,
   "id": "7d688b4f",
   "metadata": {},
   "outputs": [],
   "source": [
    "# Check if any of the specified columns have a value (non-zero) in each row\n",
    "df['HasAttackVector'] = df[['HasDotDotPwn', 'HasDataWrapperAbuse', 'HasDoubleEncoding', 'HasDomainPatterns', 'NullBytePattern']].any(axis=1).astype(int)"
   ]
  },
  {
   "cell_type": "code",
   "execution_count": 268,
   "id": "96bd865e",
   "metadata": {
    "scrolled": true
   },
   "outputs": [
    {
     "data": {
      "text/html": [
       "<div>\n",
       "<style scoped>\n",
       "    .dataframe tbody tr th:only-of-type {\n",
       "        vertical-align: middle;\n",
       "    }\n",
       "\n",
       "    .dataframe tbody tr th {\n",
       "        vertical-align: top;\n",
       "    }\n",
       "\n",
       "    .dataframe thead th {\n",
       "        text-align: right;\n",
       "    }\n",
       "</style>\n",
       "<table border=\"1\" class=\"dataframe\">\n",
       "  <thead>\n",
       "    <tr style=\"text-align: right;\">\n",
       "      <th></th>\n",
       "      <th>Full request URI</th>\n",
       "      <th>Label</th>\n",
       "      <th>HasDotDotPwn</th>\n",
       "      <th>HasDataWrapperAbuse</th>\n",
       "      <th>HasDoubleEncoding</th>\n",
       "      <th>HasDomainPatterns</th>\n",
       "      <th>NullBytePattern</th>\n",
       "      <th>URILength</th>\n",
       "      <th>SpecialCharCount</th>\n",
       "      <th>PathDepth</th>\n",
       "      <th>TokenCount</th>\n",
       "      <th>HasAttackVector</th>\n",
       "    </tr>\n",
       "  </thead>\n",
       "  <tbody>\n",
       "    <tr>\n",
       "      <th>2304</th>\n",
       "      <td>dvwa/vulnerabilities/fi/..%000x5c..%000x5cetc0...</td>\n",
       "      <td>1</td>\n",
       "      <td>0</td>\n",
       "      <td>1</td>\n",
       "      <td>1</td>\n",
       "      <td>1</td>\n",
       "      <td>1</td>\n",
       "      <td>55</td>\n",
       "      <td>9</td>\n",
       "      <td>4</td>\n",
       "      <td>7</td>\n",
       "      <td>1</td>\n",
       "    </tr>\n",
       "    <tr>\n",
       "      <th>3621</th>\n",
       "      <td>dvwa/vulnerabilities/fi/?.%uF025?.%uF025?.%uF0...</td>\n",
       "      <td>1</td>\n",
       "      <td>0</td>\n",
       "      <td>1</td>\n",
       "      <td>1</td>\n",
       "      <td>1</td>\n",
       "      <td>0</td>\n",
       "      <td>63</td>\n",
       "      <td>13</td>\n",
       "      <td>4</td>\n",
       "      <td>15</td>\n",
       "      <td>1</td>\n",
       "    </tr>\n",
       "    <tr>\n",
       "      <th>5224</th>\n",
       "      <td>dvwa/vulnerabilities/fi/%c0.%c0.%c1%9c%c0.%c0....</td>\n",
       "      <td>1</td>\n",
       "      <td>0</td>\n",
       "      <td>1</td>\n",
       "      <td>1</td>\n",
       "      <td>1</td>\n",
       "      <td>0</td>\n",
       "      <td>123</td>\n",
       "      <td>41</td>\n",
       "      <td>4</td>\n",
       "      <td>53</td>\n",
       "      <td>1</td>\n",
       "    </tr>\n",
       "    <tr>\n",
       "      <th>2707</th>\n",
       "      <td>dvwa/vulnerabilities/fi/.?%252f.?%252fetc%252f...</td>\n",
       "      <td>1</td>\n",
       "      <td>0</td>\n",
       "      <td>1</td>\n",
       "      <td>1</td>\n",
       "      <td>1</td>\n",
       "      <td>0</td>\n",
       "      <td>52</td>\n",
       "      <td>10</td>\n",
       "      <td>4</td>\n",
       "      <td>10</td>\n",
       "      <td>1</td>\n",
       "    </tr>\n",
       "    <tr>\n",
       "      <th>2596</th>\n",
       "      <td>dvwa/vulnerabilities/fi/..%01%%32%%66..%01%%32...</td>\n",
       "      <td>1</td>\n",
       "      <td>0</td>\n",
       "      <td>1</td>\n",
       "      <td>1</td>\n",
       "      <td>1</td>\n",
       "      <td>0</td>\n",
       "      <td>119</td>\n",
       "      <td>49</td>\n",
       "      <td>4</td>\n",
       "      <td>61</td>\n",
       "      <td>1</td>\n",
       "    </tr>\n",
       "    <tr>\n",
       "      <th>...</th>\n",
       "      <td>...</td>\n",
       "      <td>...</td>\n",
       "      <td>...</td>\n",
       "      <td>...</td>\n",
       "      <td>...</td>\n",
       "      <td>...</td>\n",
       "      <td>...</td>\n",
       "      <td>...</td>\n",
       "      <td>...</td>\n",
       "      <td>...</td>\n",
       "      <td>...</td>\n",
       "      <td>...</td>\n",
       "    </tr>\n",
       "    <tr>\n",
       "      <th>3772</th>\n",
       "      <td>dvwa/vulnerabilities/fi/%5C..%c0%af%5C..%c0%af...</td>\n",
       "      <td>1</td>\n",
       "      <td>0</td>\n",
       "      <td>1</td>\n",
       "      <td>1</td>\n",
       "      <td>1</td>\n",
       "      <td>0</td>\n",
       "      <td>105</td>\n",
       "      <td>35</td>\n",
       "      <td>4</td>\n",
       "      <td>47</td>\n",
       "      <td>1</td>\n",
       "    </tr>\n",
       "    <tr>\n",
       "      <th>5191</th>\n",
       "      <td>dvwa/vulnerabilities/fi/%c0.%c0.%252f%c0.%c0.%...</td>\n",
       "      <td>1</td>\n",
       "      <td>0</td>\n",
       "      <td>1</td>\n",
       "      <td>1</td>\n",
       "      <td>1</td>\n",
       "      <td>0</td>\n",
       "      <td>77</td>\n",
       "      <td>19</td>\n",
       "      <td>4</td>\n",
       "      <td>21</td>\n",
       "      <td>1</td>\n",
       "    </tr>\n",
       "    <tr>\n",
       "      <th>5226</th>\n",
       "      <td>dvwa/vulnerabilities/fi/%c0.%c0.%c1%pc%c0.%c0....</td>\n",
       "      <td>1</td>\n",
       "      <td>0</td>\n",
       "      <td>1</td>\n",
       "      <td>1</td>\n",
       "      <td>1</td>\n",
       "      <td>0</td>\n",
       "      <td>67</td>\n",
       "      <td>17</td>\n",
       "      <td>4</td>\n",
       "      <td>21</td>\n",
       "      <td>1</td>\n",
       "    </tr>\n",
       "    <tr>\n",
       "      <th>5390</th>\n",
       "      <td>dvwa/vulnerabilities/fi/%252e%252e%c0%af%252e%...</td>\n",
       "      <td>1</td>\n",
       "      <td>0</td>\n",
       "      <td>1</td>\n",
       "      <td>1</td>\n",
       "      <td>1</td>\n",
       "      <td>0</td>\n",
       "      <td>103</td>\n",
       "      <td>21</td>\n",
       "      <td>4</td>\n",
       "      <td>37</td>\n",
       "      <td>1</td>\n",
       "    </tr>\n",
       "    <tr>\n",
       "      <th>860</th>\n",
       "      <td>dvwa/login.php</td>\n",
       "      <td>0</td>\n",
       "      <td>0</td>\n",
       "      <td>0</td>\n",
       "      <td>0</td>\n",
       "      <td>0</td>\n",
       "      <td>0</td>\n",
       "      <td>14</td>\n",
       "      <td>2</td>\n",
       "      <td>2</td>\n",
       "      <td>1</td>\n",
       "      <td>0</td>\n",
       "    </tr>\n",
       "  </tbody>\n",
       "</table>\n",
       "<p>6263 rows × 12 columns</p>\n",
       "</div>"
      ],
      "text/plain": [
       "                                       Full request URI  Label  HasDotDotPwn  \\\n",
       "2304  dvwa/vulnerabilities/fi/..%000x5c..%000x5cetc0...      1             0   \n",
       "3621  dvwa/vulnerabilities/fi/?.%uF025?.%uF025?.%uF0...      1             0   \n",
       "5224  dvwa/vulnerabilities/fi/%c0.%c0.%c1%9c%c0.%c0....      1             0   \n",
       "2707  dvwa/vulnerabilities/fi/.?%252f.?%252fetc%252f...      1             0   \n",
       "2596  dvwa/vulnerabilities/fi/..%01%%32%%66..%01%%32...      1             0   \n",
       "...                                                 ...    ...           ...   \n",
       "3772  dvwa/vulnerabilities/fi/%5C..%c0%af%5C..%c0%af...      1             0   \n",
       "5191  dvwa/vulnerabilities/fi/%c0.%c0.%252f%c0.%c0.%...      1             0   \n",
       "5226  dvwa/vulnerabilities/fi/%c0.%c0.%c1%pc%c0.%c0....      1             0   \n",
       "5390  dvwa/vulnerabilities/fi/%252e%252e%c0%af%252e%...      1             0   \n",
       "860                                      dvwa/login.php      0             0   \n",
       "\n",
       "      HasDataWrapperAbuse  HasDoubleEncoding  HasDomainPatterns  \\\n",
       "2304                    1                  1                  1   \n",
       "3621                    1                  1                  1   \n",
       "5224                    1                  1                  1   \n",
       "2707                    1                  1                  1   \n",
       "2596                    1                  1                  1   \n",
       "...                   ...                ...                ...   \n",
       "3772                    1                  1                  1   \n",
       "5191                    1                  1                  1   \n",
       "5226                    1                  1                  1   \n",
       "5390                    1                  1                  1   \n",
       "860                     0                  0                  0   \n",
       "\n",
       "      NullBytePattern  URILength  SpecialCharCount  PathDepth  TokenCount  \\\n",
       "2304                1         55                 9          4           7   \n",
       "3621                0         63                13          4          15   \n",
       "5224                0        123                41          4          53   \n",
       "2707                0         52                10          4          10   \n",
       "2596                0        119                49          4          61   \n",
       "...               ...        ...               ...        ...         ...   \n",
       "3772                0        105                35          4          47   \n",
       "5191                0         77                19          4          21   \n",
       "5226                0         67                17          4          21   \n",
       "5390                0        103                21          4          37   \n",
       "860                 0         14                 2          2           1   \n",
       "\n",
       "      HasAttackVector  \n",
       "2304                1  \n",
       "3621                1  \n",
       "5224                1  \n",
       "2707                1  \n",
       "2596                1  \n",
       "...               ...  \n",
       "3772                1  \n",
       "5191                1  \n",
       "5226                1  \n",
       "5390                1  \n",
       "860                 0  \n",
       "\n",
       "[6263 rows x 12 columns]"
      ]
     },
     "execution_count": 268,
     "metadata": {},
     "output_type": "execute_result"
    }
   ],
   "source": [
    "df"
   ]
  },
  {
   "cell_type": "markdown",
   "id": "2845f86d",
   "metadata": {},
   "source": [
    "# Save to a CSV File"
   ]
  },
  {
   "cell_type": "code",
   "execution_count": 269,
   "id": "2af82ac5",
   "metadata": {},
   "outputs": [],
   "source": [
    "# Use only if you want to put in a combined csv file\n",
    "df.to_csv(\"preprocessdata.csv\", index=False)"
   ]
  },
  {
   "cell_type": "code",
   "execution_count": null,
   "id": "87e5ba2d",
   "metadata": {},
   "outputs": [],
   "source": []
  }
 ],
 "metadata": {
  "kernelspec": {
   "display_name": "Python 3 (ipykernel)",
   "language": "python",
   "name": "python3"
  },
  "language_info": {
   "codemirror_mode": {
    "name": "ipython",
    "version": 3
   },
   "file_extension": ".py",
   "mimetype": "text/x-python",
   "name": "python",
   "nbconvert_exporter": "python",
   "pygments_lexer": "ipython3",
   "version": "3.9.7"
  }
 },
 "nbformat": 4,
 "nbformat_minor": 5
}
