{
 "cells": [
  {
   "cell_type": "code",
   "execution_count": 17,
   "id": "82f4b558",
   "metadata": {},
   "outputs": [],
   "source": [
    "import pandas as pd\n",
    "import numpy as np\n",
    "from matplotlib import pyplot as plt"
   ]
  },
  {
   "cell_type": "markdown",
   "id": "d233d829",
   "metadata": {},
   "source": [
    "# Import Pre-Processed Data\n",
    "The CSV file that will be used here was from the previous notebook for pre-processing data"
   ]
  },
  {
   "cell_type": "code",
   "execution_count": 157,
   "id": "c126de86",
   "metadata": {},
   "outputs": [],
   "source": [
    "df = pd.read_csv(r\"C:\\Users\\Neil Garcia\\randomforest\\dataCIC\\preprocessdata.csv\")"
   ]
  },
  {
   "cell_type": "code",
   "execution_count": 158,
   "id": "436697e0",
   "metadata": {
    "scrolled": true
   },
   "outputs": [
    {
     "data": {
      "text/html": [
       "<div>\n",
       "<style scoped>\n",
       "    .dataframe tbody tr th:only-of-type {\n",
       "        vertical-align: middle;\n",
       "    }\n",
       "\n",
       "    .dataframe tbody tr th {\n",
       "        vertical-align: top;\n",
       "    }\n",
       "\n",
       "    .dataframe thead th {\n",
       "        text-align: right;\n",
       "    }\n",
       "</style>\n",
       "<table border=\"1\" class=\"dataframe\">\n",
       "  <thead>\n",
       "    <tr style=\"text-align: right;\">\n",
       "      <th></th>\n",
       "      <th>Full request URI</th>\n",
       "      <th>Label</th>\n",
       "      <th>HasDotDotPwn</th>\n",
       "      <th>HasDataWrapperAbuse</th>\n",
       "      <th>HasDoubleEncoding</th>\n",
       "      <th>HasDomainPatterns</th>\n",
       "      <th>NullBytePattern</th>\n",
       "      <th>URILength</th>\n",
       "      <th>SpecialCharCount</th>\n",
       "      <th>PathDepth</th>\n",
       "      <th>TokenCount</th>\n",
       "      <th>HasAttackVector</th>\n",
       "    </tr>\n",
       "  </thead>\n",
       "  <tbody>\n",
       "    <tr>\n",
       "      <th>0</th>\n",
       "      <td>dvwa/vulnerabilities/fi/..%000x5c..%000x5cetc0...</td>\n",
       "      <td>1</td>\n",
       "      <td>0</td>\n",
       "      <td>1</td>\n",
       "      <td>1</td>\n",
       "      <td>1</td>\n",
       "      <td>1</td>\n",
       "      <td>55</td>\n",
       "      <td>9</td>\n",
       "      <td>4</td>\n",
       "      <td>7</td>\n",
       "      <td>1</td>\n",
       "    </tr>\n",
       "    <tr>\n",
       "      <th>1</th>\n",
       "      <td>dvwa/vulnerabilities/fi/?.%uF025?.%uF025?.%uF0...</td>\n",
       "      <td>1</td>\n",
       "      <td>0</td>\n",
       "      <td>1</td>\n",
       "      <td>1</td>\n",
       "      <td>1</td>\n",
       "      <td>0</td>\n",
       "      <td>63</td>\n",
       "      <td>13</td>\n",
       "      <td>4</td>\n",
       "      <td>15</td>\n",
       "      <td>1</td>\n",
       "    </tr>\n",
       "    <tr>\n",
       "      <th>2</th>\n",
       "      <td>dvwa/vulnerabilities/fi/%c0.%c0.%c1%9c%c0.%c0....</td>\n",
       "      <td>1</td>\n",
       "      <td>0</td>\n",
       "      <td>1</td>\n",
       "      <td>1</td>\n",
       "      <td>1</td>\n",
       "      <td>0</td>\n",
       "      <td>123</td>\n",
       "      <td>41</td>\n",
       "      <td>4</td>\n",
       "      <td>53</td>\n",
       "      <td>1</td>\n",
       "    </tr>\n",
       "    <tr>\n",
       "      <th>3</th>\n",
       "      <td>dvwa/vulnerabilities/fi/.?%252f.?%252fetc%252f...</td>\n",
       "      <td>1</td>\n",
       "      <td>0</td>\n",
       "      <td>1</td>\n",
       "      <td>1</td>\n",
       "      <td>1</td>\n",
       "      <td>0</td>\n",
       "      <td>52</td>\n",
       "      <td>10</td>\n",
       "      <td>4</td>\n",
       "      <td>10</td>\n",
       "      <td>1</td>\n",
       "    </tr>\n",
       "    <tr>\n",
       "      <th>4</th>\n",
       "      <td>dvwa/vulnerabilities/fi/..%01%%32%%66..%01%%32...</td>\n",
       "      <td>1</td>\n",
       "      <td>0</td>\n",
       "      <td>1</td>\n",
       "      <td>1</td>\n",
       "      <td>1</td>\n",
       "      <td>0</td>\n",
       "      <td>119</td>\n",
       "      <td>49</td>\n",
       "      <td>4</td>\n",
       "      <td>61</td>\n",
       "      <td>1</td>\n",
       "    </tr>\n",
       "    <tr>\n",
       "      <th>...</th>\n",
       "      <td>...</td>\n",
       "      <td>...</td>\n",
       "      <td>...</td>\n",
       "      <td>...</td>\n",
       "      <td>...</td>\n",
       "      <td>...</td>\n",
       "      <td>...</td>\n",
       "      <td>...</td>\n",
       "      <td>...</td>\n",
       "      <td>...</td>\n",
       "      <td>...</td>\n",
       "      <td>...</td>\n",
       "    </tr>\n",
       "    <tr>\n",
       "      <th>6258</th>\n",
       "      <td>dvwa/vulnerabilities/fi/%5C..%c0%af%5C..%c0%af...</td>\n",
       "      <td>1</td>\n",
       "      <td>0</td>\n",
       "      <td>1</td>\n",
       "      <td>1</td>\n",
       "      <td>1</td>\n",
       "      <td>0</td>\n",
       "      <td>105</td>\n",
       "      <td>35</td>\n",
       "      <td>4</td>\n",
       "      <td>47</td>\n",
       "      <td>1</td>\n",
       "    </tr>\n",
       "    <tr>\n",
       "      <th>6259</th>\n",
       "      <td>dvwa/vulnerabilities/fi/%c0.%c0.%252f%c0.%c0.%...</td>\n",
       "      <td>1</td>\n",
       "      <td>0</td>\n",
       "      <td>1</td>\n",
       "      <td>1</td>\n",
       "      <td>1</td>\n",
       "      <td>0</td>\n",
       "      <td>77</td>\n",
       "      <td>19</td>\n",
       "      <td>4</td>\n",
       "      <td>21</td>\n",
       "      <td>1</td>\n",
       "    </tr>\n",
       "    <tr>\n",
       "      <th>6260</th>\n",
       "      <td>dvwa/vulnerabilities/fi/%c0.%c0.%c1%pc%c0.%c0....</td>\n",
       "      <td>1</td>\n",
       "      <td>0</td>\n",
       "      <td>1</td>\n",
       "      <td>1</td>\n",
       "      <td>1</td>\n",
       "      <td>0</td>\n",
       "      <td>67</td>\n",
       "      <td>17</td>\n",
       "      <td>4</td>\n",
       "      <td>21</td>\n",
       "      <td>1</td>\n",
       "    </tr>\n",
       "    <tr>\n",
       "      <th>6261</th>\n",
       "      <td>dvwa/vulnerabilities/fi/%252e%252e%c0%af%252e%...</td>\n",
       "      <td>1</td>\n",
       "      <td>0</td>\n",
       "      <td>1</td>\n",
       "      <td>1</td>\n",
       "      <td>1</td>\n",
       "      <td>0</td>\n",
       "      <td>103</td>\n",
       "      <td>21</td>\n",
       "      <td>4</td>\n",
       "      <td>37</td>\n",
       "      <td>1</td>\n",
       "    </tr>\n",
       "    <tr>\n",
       "      <th>6262</th>\n",
       "      <td>dvwa/login.php</td>\n",
       "      <td>0</td>\n",
       "      <td>0</td>\n",
       "      <td>0</td>\n",
       "      <td>0</td>\n",
       "      <td>0</td>\n",
       "      <td>0</td>\n",
       "      <td>14</td>\n",
       "      <td>2</td>\n",
       "      <td>2</td>\n",
       "      <td>1</td>\n",
       "      <td>0</td>\n",
       "    </tr>\n",
       "  </tbody>\n",
       "</table>\n",
       "<p>6263 rows × 12 columns</p>\n",
       "</div>"
      ],
      "text/plain": [
       "                                       Full request URI  Label  HasDotDotPwn  \\\n",
       "0     dvwa/vulnerabilities/fi/..%000x5c..%000x5cetc0...      1             0   \n",
       "1     dvwa/vulnerabilities/fi/?.%uF025?.%uF025?.%uF0...      1             0   \n",
       "2     dvwa/vulnerabilities/fi/%c0.%c0.%c1%9c%c0.%c0....      1             0   \n",
       "3     dvwa/vulnerabilities/fi/.?%252f.?%252fetc%252f...      1             0   \n",
       "4     dvwa/vulnerabilities/fi/..%01%%32%%66..%01%%32...      1             0   \n",
       "...                                                 ...    ...           ...   \n",
       "6258  dvwa/vulnerabilities/fi/%5C..%c0%af%5C..%c0%af...      1             0   \n",
       "6259  dvwa/vulnerabilities/fi/%c0.%c0.%252f%c0.%c0.%...      1             0   \n",
       "6260  dvwa/vulnerabilities/fi/%c0.%c0.%c1%pc%c0.%c0....      1             0   \n",
       "6261  dvwa/vulnerabilities/fi/%252e%252e%c0%af%252e%...      1             0   \n",
       "6262                                     dvwa/login.php      0             0   \n",
       "\n",
       "      HasDataWrapperAbuse  HasDoubleEncoding  HasDomainPatterns  \\\n",
       "0                       1                  1                  1   \n",
       "1                       1                  1                  1   \n",
       "2                       1                  1                  1   \n",
       "3                       1                  1                  1   \n",
       "4                       1                  1                  1   \n",
       "...                   ...                ...                ...   \n",
       "6258                    1                  1                  1   \n",
       "6259                    1                  1                  1   \n",
       "6260                    1                  1                  1   \n",
       "6261                    1                  1                  1   \n",
       "6262                    0                  0                  0   \n",
       "\n",
       "      NullBytePattern  URILength  SpecialCharCount  PathDepth  TokenCount  \\\n",
       "0                   1         55                 9          4           7   \n",
       "1                   0         63                13          4          15   \n",
       "2                   0        123                41          4          53   \n",
       "3                   0         52                10          4          10   \n",
       "4                   0        119                49          4          61   \n",
       "...               ...        ...               ...        ...         ...   \n",
       "6258                0        105                35          4          47   \n",
       "6259                0         77                19          4          21   \n",
       "6260                0         67                17          4          21   \n",
       "6261                0        103                21          4          37   \n",
       "6262                0         14                 2          2           1   \n",
       "\n",
       "      HasAttackVector  \n",
       "0                   1  \n",
       "1                   1  \n",
       "2                   1  \n",
       "3                   1  \n",
       "4                   1  \n",
       "...               ...  \n",
       "6258                1  \n",
       "6259                1  \n",
       "6260                1  \n",
       "6261                1  \n",
       "6262                0  \n",
       "\n",
       "[6263 rows x 12 columns]"
      ]
     },
     "execution_count": 158,
     "metadata": {},
     "output_type": "execute_result"
    }
   ],
   "source": [
    "df"
   ]
  },
  {
   "cell_type": "code",
   "execution_count": 160,
   "id": "d03f961d",
   "metadata": {},
   "outputs": [
    {
     "name": "stdout",
     "output_type": "stream",
     "text": [
      "'dvwa/login.php' occurs 1067\n",
      "'dvwa/favicon.ico' occurs 25\n",
      "'dvwa/vulnerabilities/exec/' occurs 25\n",
      "'dvwa/vulnerabilities/upload/' occurs 22\n",
      "'dvwa/vulnerabilities/sqli_blind/' occurs 21\n",
      "'dvwa/setup.php' occurs 20\n",
      "'dvwa/vulnerabilities/fi/?page=include.php' occurs 20\n",
      "'dvwa/instructions.php' occurs 19\n",
      "'dvwa/vulnerabilities/brute/' occurs 18\n",
      "'dvwa/vulnerabilities/xss_r/' occurs 18\n",
      "'dvwa/vulnerabilities/sqli/' occurs 18\n",
      "'dvwa/vulnerabilities/csrf/' occurs 17\n",
      "'dvwa/vulnerabilities/xss_s/' occurs 15\n",
      "'dvwa/security.php' occurs 14\n",
      "'dvwa/phpinfo.php?=PHPE9568F35-D428-11d2-A769-00AA001ACF42' occurs 11\n",
      "'dvwa/phpinfo.php?=SUHO8567F54-D428-14d2-A769-00DA302A5F18' occurs 11\n",
      "'dvwa/phpinfo.php?=PHPE9568F34-D428-11d2-A769-00AA001ACF42' occurs 11\n",
      "'dvwa/phpinfo.php' occurs 11\n",
      "'dvwa/instructions.php?doc=changelog' occurs 9\n",
      "'dvwa/' occurs 9\n",
      "'dvwa/instructions.php?doc=copying' occurs 8\n",
      "'dvwa/about.php' occurs 6\n",
      "'dvwa/instructions.php?doc=readme' occurs 6\n",
      "'favicon.ico' occurs 6\n",
      "'dvwa/dvwa/images/lock.png' occurs 5\n",
      "'dvwa/dvwa/images/spanner.png' occurs 3\n",
      "'dvwa/instructions.php?doc=PHPIDS-license' occurs 3\n",
      "'dvwa/logout.php' occurs 2\n",
      "'dvwa/index.php' occurs 2\n"
     ]
    }
   ],
   "source": [
    "common_values = df['Full request URI'].value_counts()\n",
    "common_values = common_values[common_values > 1].index.tolist()\n",
    "\n",
    "# Count occurrences of each common value\n",
    "for value in common_values:\n",
    "    count = df[df['Full request URI'] == value].shape[0]\n",
    "    print(f\"'{value}' occurs {count}\")\n"
   ]
  },
  {
   "cell_type": "markdown",
   "id": "a9c0681c",
   "metadata": {},
   "source": [
    "-----------------------"
   ]
  },
  {
   "cell_type": "markdown",
   "id": "0fdb506a",
   "metadata": {},
   "source": [
    "# Ensuring rows that contain null are removed\n",
    "Removal of Full request URI column will be removed as several features were extracted and converted into a numeric representation in either boolean or integer value"
   ]
  },
  {
   "cell_type": "code",
   "execution_count": 161,
   "id": "5020d34d",
   "metadata": {
    "scrolled": false
   },
   "outputs": [],
   "source": [
    "# Drop rows that are null\n",
    "df.dropna\n",
    "\n",
    "# Drop also the Full request URI since strings cannot be processed by RF \n",
    "df = df.drop(labels=['Full request URI'], axis=1)"
   ]
  },
  {
   "cell_type": "code",
   "execution_count": 162,
   "id": "36cdf914",
   "metadata": {},
   "outputs": [
    {
     "name": "stdout",
     "output_type": "stream",
     "text": [
      "1    4825\n",
      "0    1438\n",
      "Name: Label, dtype: int64\n"
     ]
    },
    {
     "data": {
      "image/png": "[encoded data removed]",
      "text/plain": [
       "<Figure size 1008x144 with 1 Axes>"
      ]
     },
     "metadata": {
      "needs_background": "light"
     },
     "output_type": "display_data"
    }
   ],
   "source": [
    "# Check if the ratio of attack(1) and normal(0) entry on the dataset needs to be balanced from one way to another\n",
    "value_counts = df['Label'].value_counts()\n",
    "print(value_counts)\n",
    "\n",
    "# Create a bar chart\n",
    "plt.figure(figsize=(14, 2))\n",
    "\n",
    "plt.barh(value_counts.index, value_counts.values)\n",
    "plt.xlabel('Count')\n",
    "plt.ylabel('Labels')\n",
    "plt.title('Ratio of Recorded Attacks to Normal')\n",
    "\n",
    "# Customize y-axis labels\n",
    "plt.yticks(value_counts.index, ['Attack (1)', 'Normal (0)'])\n",
    "plt.show()"
   ]
  },
  {
   "cell_type": "markdown",
   "id": "c8e181cd",
   "metadata": {},
   "source": [
    "# Defining Independent and Dependent Variables\n",
    "Separating the targeted variable which is the 'Label' column from the other features(column) in the dataframe. Making the Y variable as the pinnacle definition, if considering all the columns from 'X', can dictate if it is an attack or not."
   ]
  },
  {
   "cell_type": "code",
   "execution_count": 163,
   "id": "199ca796",
   "metadata": {},
   "outputs": [],
   "source": [
    "# define dependent variable\n",
    "Y = df['Label'].values\n",
    "Y=Y.astype('int')\n",
    "\n",
    "# define independent variables\n",
    "X = df.drop(labels=['Label'], axis=1)"
   ]
  },
  {
   "cell_type": "code",
   "execution_count": 47,
   "id": "9b818c14",
   "metadata": {
    "collapsed": true
   },
   "outputs": [
    {
     "ename": "SyntaxError",
     "evalue": "invalid syntax (Temp/ipykernel_5744/4075812919.py, line 2)",
     "output_type": "error",
     "traceback": [
      "\u001b[1;36m  File \u001b[1;32m\"C:\\Users\\NEILGA~1\\AppData\\Local\\Temp/ipykernel_5744/4075812919.py\"\u001b[1;36m, line \u001b[1;32m2\u001b[0m\n\u001b[1;33m    pip install --user imbalanced-learn\u001b[0m\n\u001b[1;37m        ^\u001b[0m\n\u001b[1;31mSyntaxError\u001b[0m\u001b[1;31m:\u001b[0m invalid syntax\n"
     ]
    }
   ],
   "source": [
    "# install this package to process the balancing of dataset\n",
    "pip install --user imbalanced-learn"
   ]
  },
  {
   "cell_type": "markdown",
   "id": "1735cec8",
   "metadata": {},
   "source": [
    "# SMOTENN \n",
    "A technique to use when the dataset is imbalance so that the dataset to be used in training the model can provide a quality detection rate. SMOTE-ENN is a combination of over and under sampling technqiue to ensure the dataset is in a fair and balanced playing field"
   ]
  },
  {
   "cell_type": "code",
   "execution_count": 164,
   "id": "45fd284a",
   "metadata": {
    "scrolled": true
   },
   "outputs": [],
   "source": [
    "from imblearn.combine import SMOTEENN\n",
    "smote_enn = SMOTEENN(random_state=42)\n",
    "x_ST, y_ST = smote_enn.fit_resample(X, Y)"
   ]
  },
  {
   "cell_type": "markdown",
   "id": "530947a6",
   "metadata": {},
   "source": [
    "#### Validating if the playing field of data is fair between attack or normal"
   ]
  },
  {
   "cell_type": "code",
   "execution_count": 165,
   "id": "f6813b12",
   "metadata": {},
   "outputs": [
    {
     "name": "stdout",
     "output_type": "stream",
     "text": [
      "Count of Attacks(1): 4811\n",
      "Count of Normal(0): 4819\n"
     ]
    },
    {
     "data": {
      "image/png": "[encoded data removed]",
      "text/plain": [
       "<Figure size 1008x144 with 1 Axes>"
      ]
     },
     "metadata": {
      "needs_background": "light"
     },
     "output_type": "display_data"
    }
   ],
   "source": [
    "from collections import Counter\n",
    "counts = Counter(y_ST)\n",
    "\n",
    "# Access the counts\n",
    "count_0 = counts[0]\n",
    "count_1 = counts[1]\n",
    "\n",
    "print(\"Count of Attacks(1):\", count_1)\n",
    "print(\"Count of Normal(0):\", count_0)\n",
    "\n",
    "# Create a bar chart\n",
    "plt.figure(figsize=(14, 2))\n",
    "plt.barh(['Normal (0)', 'Attack (1)'], [count_0, count_1])\n",
    "plt.xlabel('Count')\n",
    "plt.ylabel('Labels')\n",
    "plt.title('Normalized Data using SMOTEENN')\n",
    "plt.show()\n"
   ]
  },
  {
   "cell_type": "markdown",
   "id": "e0f652de",
   "metadata": {},
   "source": [
    "# Split the dataset\n",
    "The 80% of the dataset will be used for training the model and 20% will be left for testing the data"
   ]
  },
  {
   "cell_type": "code",
   "execution_count": 166,
   "id": "7a8340be",
   "metadata": {},
   "outputs": [],
   "source": [
    "from sklearn.model_selection import train_test_split\n",
    "x_train, x_test, y_train, y_test = train_test_split(x_ST, y_ST, test_size=0.2, random_state=42, shuffle=True)"
   ]
  },
  {
   "cell_type": "markdown",
   "id": "067a8138",
   "metadata": {},
   "source": [
    "# Test the model and get performance evaluation"
   ]
  },
  {
   "cell_type": "code",
   "execution_count": 167,
   "id": "798ad7e9",
   "metadata": {},
   "outputs": [
    {
     "name": "stdout",
     "output_type": "stream",
     "text": [
      "Train Score :  1.0  Test Score :  0.9994807892004154\n",
      "\n",
      "Training Samples & Columns (7704, 10) \n",
      "Testing Samples (1926,)\n"
     ]
    }
   ],
   "source": [
    "# Use the Random Forest\n",
    "from sklearn.ensemble import RandomForestClassifier\n",
    "model=RandomForestClassifier()\n",
    "model.fit(x_train,y_train)\n",
    "\n",
    "# Get the performance metrics\n",
    "from sklearn.metrics import accuracy_score, confusion_matrix, classification_report\n",
    "print(\"Train Score : \",model.score(x_train,y_train),\" Test Score : \",model.score(x_test,y_test))\n",
    "y_pred=model.predict(x_test)\n",
    "\n",
    "print(\"\\nTraining Samples & Columns\", x_train.shape, \"\\nTesting Samples\", y_pred.shape)"
   ]
  },
  {
   "cell_type": "markdown",
   "id": "320cb54f",
   "metadata": {},
   "source": [
    "# Check metrics"
   ]
  },
  {
   "cell_type": "code",
   "execution_count": 168,
   "id": "de8b5a2b",
   "metadata": {
    "scrolled": true
   },
   "outputs": [
    {
     "name": "stdout",
     "output_type": "stream",
     "text": [
      "accuracy : 99.94807892004154\n",
      "Classification Report:\n",
      "              precision    recall  f1-score   support\n",
      "\n",
      "           0       1.00      1.00      1.00       956\n",
      "           1       1.00      1.00      1.00       970\n",
      "\n",
      "    accuracy                           1.00      1926\n",
      "   macro avg       1.00      1.00      1.00      1926\n",
      "weighted avg       1.00      1.00      1.00      1926\n",
      "\n"
     ]
    }
   ],
   "source": [
    "from sklearn import metrics\n",
    "print(\"accuracy :\" , accuracy_score(y_test, y_pred)*100)\n",
    "\n",
    "# Generate and print a classification report\n",
    "classification_rep = classification_report(y_test, y_pred)\n",
    "print(\"Classification Report:\")\n",
    "print(classification_rep)"
   ]
  },
  {
   "cell_type": "code",
   "execution_count": 169,
   "id": "2724faf2",
   "metadata": {
    "scrolled": true
   },
   "outputs": [
    {
     "data": {
      "image/png": "[encoded data removed]",
      "text/plain": [
       "<Figure size 432x288 with 2 Axes>"
      ]
     },
     "metadata": {
      "needs_background": "light"
     },
     "output_type": "display_data"
    }
   ],
   "source": [
    "from sklearn.metrics import confusion_matrix, ConfusionMatrixDisplay\n",
    "import matplotlib.pyplot as plt\n",
    "\n",
    "# Create a confusion matrix\n",
    "confusion = confusion_matrix(y_test, y_pred)\n",
    "\n",
    "# Display the confusion matrix as a heatmap with integer values\n",
    "disp = ConfusionMatrixDisplay(confusion_matrix=confusion, display_labels=['Negative', 'Positive'])\n",
    "\n",
    "# Use values_format to display values as integers\n",
    "disp.plot(cmap=plt.cm.Blues, values_format=\"d\")  # \"d\" specifies integer format\n",
    "plt.title('Confusion Matrix')\n",
    "plt.show()"
   ]
  },
  {
   "cell_type": "code",
   "execution_count": 170,
   "id": "7ef12da4",
   "metadata": {},
   "outputs": [
    {
     "name": "stdout",
     "output_type": "stream",
     "text": [
      "HasAttackVector        0.300986\n",
      "TokenCount             0.257335\n",
      "PathDepth              0.192479\n",
      "SpecialCharCount       0.119820\n",
      "HasDoubleEncoding      0.088910\n",
      "URILength              0.018797\n",
      "HasDataWrapperAbuse    0.012218\n",
      "HasDomainPatterns      0.006448\n",
      "NullBytePattern        0.002934\n",
      "HasDotDotPwn           0.000073\n",
      "dtype: float64\n"
     ]
    }
   ],
   "source": [
    "feature_list = list(X.columns)\n",
    "feature_imp = pd.Series(model.feature_importances_, index=feature_list).sort_values(ascending=False)\n",
    "print(feature_imp)"
   ]
  }
 ],
 "metadata": {
  "kernelspec": {
   "display_name": "Python 3 (ipykernel)",
   "language": "python",
   "name": "python3"
  },
  "language_info": {
   "codemirror_mode": {
    "name": "ipython",
    "version": 3
   },
   "file_extension": ".py",
   "mimetype": "text/x-python",
   "name": "python",
   "nbconvert_exporter": "python",
   "pygments_lexer": "ipython3",
   "version": "3.9.7"
  }
 },
 "nbformat": 4,
 "nbformat_minor": 5
}
